{
 "cells": [
  {
   "cell_type": "code",
   "execution_count": 4,
   "metadata": {},
   "outputs": [],
   "source": [
    "from docx import Document\n",
    "\n",
    "# Crear un nuevo documento\n",
    "doc = Document()\n",
    "\n",
    "# Agregar una tabla con las filas y columnas necesarias\n",
    "data = [\n",
    "    [\"Aspecto\", \"Computación Paralela\", \"Computación Distribuida\", \"Grid Computing\", \"Cloud Computing\"],\n",
    "    [\"Definición\", \"Múltiples tareas simultáneas con varios procesadores o núcleos.\", \"Distribución de carga de trabajo entre dispositivos conectados.\", \"Uso de recursos de cómputo distribuidos para resolver problemas.\", \"Provisión de servicios de TI a través de internet.\"],\n",
    "    [\"Arquitectura\", \"Varios procesadores trabajando en conjunto.\", \"Múltiples sistemas independientes conectados.\", \"Red de nodos contribuyendo con recursos de cómputo.\", \"Proveedores que ofrecen recursos virtualizados.\"],\n",
    "    [\"Funcionamiento\", \"Divide el problema en partes pequeñas que se resuelven simultáneamente.\", \"Nodos trabajan colaborativamente para lograr un objetivo común.\", \"Tareas divididas y distribuidas a través de la red de nodos.\", \"Acceso a recursos a través de servicios en línea.\"],\n",
    "    [\"Aplicaciones\", \"Modelado climático, simulaciones científicas.\", \"Sistemas de gestión de bases de datos distribuidas, aplicaciones web escalables.\", \"Investigación científica, cálculos intensivos.\", \"Almacenamiento en la nube, plataformas de desarrollo, servicios web.\"],\n",
    "    [\"Uso\", \"Problemas que se pueden dividir en tareas independientes.\", \"Cuando la tarea no puede manejarse eficientemente en un solo sistema.\", \"Problemas que requieren grandes cantidades de recursos de cómputo.\", \"Escalabilidad y flexibilidad en la gestión de recursos.\"],\n",
    "    [\"Ventajas\", \"Rendimiento mejorado para tareas específicas.\", \"Mayor confiabilidad, escalabilidad.\", \"Mayor poder de cómputo disponible.\", \"Escalabilidad, accesibilidad remota.\"],\n",
    "    [\"Desventajas\", \"Mayor complejidad de programación, no todas las aplicaciones se benefician por igual.\", \"Complejidad en la gestión de recursos y comunicación.\", \"Complejidad de implementación y gestión.\", \"Dependencia de la conectividad a internet, preocupaciones de seguridad.\"]\n",
    "]\n",
    "\n",
    "# Agregar la tabla al documento\n",
    "table = doc.add_table(rows=len(data), cols=len(data[0]))\n",
    "for i, row in enumerate(data):\n",
    "    for j, cell in enumerate(row):\n",
    "        table.cell(i, j).text = cell\n",
    "\n",
    "# Guardar el documento\n",
    "doc.save(\"comparativa_tecnologias.docx\")"
   ]
  }
 ],
 "metadata": {
  "kernelspec": {
   "display_name": "base",
   "language": "python",
   "name": "python3"
  },
  "language_info": {
   "codemirror_mode": {
    "name": "ipython",
    "version": 3
   },
   "file_extension": ".py",
   "mimetype": "text/x-python",
   "name": "python",
   "nbconvert_exporter": "python",
   "pygments_lexer": "ipython3",
   "version": "3.11.5"
  }
 },
 "nbformat": 4,
 "nbformat_minor": 2
}
